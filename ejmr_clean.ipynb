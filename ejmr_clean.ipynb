{
 "cells": [
  {
   "cell_type": "code",
   "execution_count": 34,
   "metadata": {
    "collapsed": false
   },
   "outputs": [],
   "source": [
    "import glob\n",
    "import os\n",
    "import re\n",
    "import pandas as pd\n",
    "import numpy as np\n",
    "from ast import literal_eval"
   ]
  },
  {
   "cell_type": "code",
   "execution_count": 2,
   "metadata": {
    "collapsed": false
   },
   "outputs": [
    {
     "name": "stdout",
     "output_type": "stream",
     "text": [
      "/Users/palermospenano/Desktop/github_proj/ejmr_analysis\n"
     ]
    }
   ],
   "source": [
    "print os.getcwd()\n",
    "os.chdir(\"/Users/palermospenano/Desktop/github_proj/ejmr_analysis/ejmr_data\")"
   ]
  },
  {
   "cell_type": "code",
   "execution_count": 3,
   "metadata": {
    "collapsed": true
   },
   "outputs": [],
   "source": [
    "# helps sort file by number at the end of each filename (10 correctly placed after 9 in filename)\n",
    "numbers = re.compile(r'(\\d+)')\n",
    "def numericalSort(value):\n",
    "    parts = numbers.split(value)\n",
    "    parts[1::2] = map(int, parts[1::2])\n",
    "    return parts"
   ]
  },
  {
   "cell_type": "code",
   "execution_count": 4,
   "metadata": {
    "collapsed": false
   },
   "outputs": [],
   "source": [
    "# concatenate all csv files\n",
    "ejmr_data = sorted(glob.glob('ejmr_pg*.csv'), key=numericalSort)\n",
    "\n",
    "df_list = []\n",
    "for filename in sorted(ejmr_data):\n",
    "    df_list.append(pd.read_csv(filename))\n",
    "full_df = pd.concat(df_list)"
   ]
  },
  {
   "cell_type": "code",
   "execution_count": 5,
   "metadata": {
    "collapsed": false
   },
   "outputs": [],
   "source": [
    "# split title into orig. link and post title, and get freshness values\n",
    "full_df['post_link'] = full_df['title'].str.extract(r'<a href=\"(.*?)\">',expand=True)\n",
    "full_df['post_title'] = full_df['title'].str.extract(r'\">(.*?)</a>',expand=True)\n",
    "full_df['how_fresh'] = full_df['freshness'].str.extract(r'\">(.*?)</a>',expand=True)\n",
    "\n",
    "list(full_df.columns)\n",
    "\n",
    "# reorder columns\n",
    "full_df = full_df[['post_title',\n",
    "                   'num_posts',\n",
    "                   'views',\n",
    "                   'votes',\n",
    "                   'how_fresh',\n",
    "                   'download_time',\n",
    "                   'title',\n",
    "                   'post_link',\n",
    "                   'freshness'\n",
    "                  ]]\n",
    "\n",
    "# export full data to csv\n",
    "full_df.to_csv('ejmr_data.csv', index=True, index_label='pandas_index')"
   ]
  },
  {
   "cell_type": "code",
   "execution_count": 6,
   "metadata": {
    "collapsed": false
   },
   "outputs": [
    {
     "data": {
      "text/html": [
       "<div>\n",
       "<table border=\"1\" class=\"dataframe\">\n",
       "  <thead>\n",
       "    <tr style=\"text-align: right;\">\n",
       "      <th></th>\n",
       "      <th>post_title</th>\n",
       "      <th>num_posts</th>\n",
       "      <th>views</th>\n",
       "      <th>votes</th>\n",
       "      <th>how_fresh</th>\n",
       "      <th>download_time</th>\n",
       "      <th>title</th>\n",
       "      <th>post_link</th>\n",
       "      <th>freshness</th>\n",
       "    </tr>\n",
       "  </thead>\n",
       "  <tbody>\n",
       "    <tr>\n",
       "      <th>0</th>\n",
       "      <td>Pls explain me how machines can learn?</td>\n",
       "      <td>5</td>\n",
       "      <td>95</td>\n",
       "      <td>0-0</td>\n",
       "      <td>1 day</td>\n",
       "      <td>2017-06-11 03:37:22.777761</td>\n",
       "      <td>&lt;a href=\"https://www.econjobrumors.com/topic/p...</td>\n",
       "      <td>https://www.econjobrumors.com/topic/pls-explai...</td>\n",
       "      <td>&lt;a href=\"https://www.econjobrumors.com/topic/p...</td>\n",
       "    </tr>\n",
       "    <tr>\n",
       "      <th>1</th>\n",
       "      <td>Machine learning is Satan worshipping in disguise</td>\n",
       "      <td>17</td>\n",
       "      <td>337</td>\n",
       "      <td>6-0</td>\n",
       "      <td>1 day</td>\n",
       "      <td>2017-06-11 03:37:22.777852</td>\n",
       "      <td>&lt;a href=\"https://www.econjobrumors.com/topic/m...</td>\n",
       "      <td>https://www.econjobrumors.com/topic/machine-le...</td>\n",
       "      <td>&lt;a href=\"https://www.econjobrumors.com/topic/m...</td>\n",
       "    </tr>\n",
       "    <tr>\n",
       "      <th>2</th>\n",
       "      <td>Should I buy a BMW</td>\n",
       "      <td>29</td>\n",
       "      <td>960</td>\n",
       "      <td>0-0</td>\n",
       "      <td>1 day</td>\n",
       "      <td>2017-06-11 03:37:22.777956</td>\n",
       "      <td>&lt;a href=\"https://www.econjobrumors.com/topic/s...</td>\n",
       "      <td>https://www.econjobrumors.com/topic/should-i-b...</td>\n",
       "      <td>&lt;a href=\"https://www.econjobrumors.com/topic/s...</td>\n",
       "    </tr>\n",
       "    <tr>\n",
       "      <th>3</th>\n",
       "      <td>A proposal on how to replace student evaluations</td>\n",
       "      <td>22</td>\n",
       "      <td>561</td>\n",
       "      <td>4-3</td>\n",
       "      <td>1 day</td>\n",
       "      <td>2017-06-11 03:37:22.778058</td>\n",
       "      <td>&lt;a href=\"https://www.econjobrumors.com/topic/a...</td>\n",
       "      <td>https://www.econjobrumors.com/topic/a-proposal...</td>\n",
       "      <td>&lt;a href=\"https://www.econjobrumors.com/topic/a...</td>\n",
       "    </tr>\n",
       "    <tr>\n",
       "      <th>4</th>\n",
       "      <td>Roman Catholics, put down your rosaries and ex...</td>\n",
       "      <td>1</td>\n",
       "      <td>69</td>\n",
       "      <td>1-0</td>\n",
       "      <td>1 day</td>\n",
       "      <td>2017-06-11 03:37:22.778133</td>\n",
       "      <td>&lt;a href=\"https://www.econjobrumors.com/topic/r...</td>\n",
       "      <td>https://www.econjobrumors.com/topic/roman-cath...</td>\n",
       "      <td>&lt;a href=\"https://www.econjobrumors.com/topic/r...</td>\n",
       "    </tr>\n",
       "  </tbody>\n",
       "</table>\n",
       "</div>"
      ],
      "text/plain": [
       "                                          post_title  num_posts  views votes  \\\n",
       "0             Pls explain me how machines can learn?          5     95   0-0   \n",
       "1  Machine learning is Satan worshipping in disguise         17    337   6-0   \n",
       "2                                 Should I buy a BMW         29    960   0-0   \n",
       "3   A proposal on how to replace student evaluations         22    561   4-3   \n",
       "4  Roman Catholics, put down your rosaries and ex...          1     69   1-0   \n",
       "\n",
       "  how_fresh               download_time  \\\n",
       "0     1 day  2017-06-11 03:37:22.777761   \n",
       "1     1 day  2017-06-11 03:37:22.777852   \n",
       "2     1 day  2017-06-11 03:37:22.777956   \n",
       "3     1 day  2017-06-11 03:37:22.778058   \n",
       "4     1 day  2017-06-11 03:37:22.778133   \n",
       "\n",
       "                                               title  \\\n",
       "0  <a href=\"https://www.econjobrumors.com/topic/p...   \n",
       "1  <a href=\"https://www.econjobrumors.com/topic/m...   \n",
       "2  <a href=\"https://www.econjobrumors.com/topic/s...   \n",
       "3  <a href=\"https://www.econjobrumors.com/topic/a...   \n",
       "4  <a href=\"https://www.econjobrumors.com/topic/r...   \n",
       "\n",
       "                                           post_link  \\\n",
       "0  https://www.econjobrumors.com/topic/pls-explai...   \n",
       "1  https://www.econjobrumors.com/topic/machine-le...   \n",
       "2  https://www.econjobrumors.com/topic/should-i-b...   \n",
       "3  https://www.econjobrumors.com/topic/a-proposal...   \n",
       "4  https://www.econjobrumors.com/topic/roman-cath...   \n",
       "\n",
       "                                           freshness  \n",
       "0  <a href=\"https://www.econjobrumors.com/topic/p...  \n",
       "1  <a href=\"https://www.econjobrumors.com/topic/m...  \n",
       "2  <a href=\"https://www.econjobrumors.com/topic/s...  \n",
       "3  <a href=\"https://www.econjobrumors.com/topic/a...  \n",
       "4  <a href=\"https://www.econjobrumors.com/topic/r...  "
      ]
     },
     "execution_count": 6,
     "metadata": {},
     "output_type": "execute_result"
    }
   ],
   "source": [
    "full_df.head()"
   ]
  },
  {
   "cell_type": "code",
   "execution_count": 60,
   "metadata": {
    "collapsed": false
   },
   "outputs": [],
   "source": [
    "ejmr_df = pd.read_csv('ejmr_data.csv')"
   ]
  },
  {
   "cell_type": "code",
   "execution_count": 61,
   "metadata": {
    "collapsed": false
   },
   "outputs": [],
   "source": [
    "def nonNaN_title_only(df, df_col):\n",
    "    \"\"\"\n",
    "    replaces empty strings with NaN and subsequently removes removes them. Function makes changes in place.\n",
    "    \"\"\"\n",
    "    print \"Total number of rows: {0}\".format(len(df))\n",
    "    print len(df) - df.count()  # number of NaN rows for each column\n",
    "    \n",
    "    df[df_col].replace('', np.nan, inplace=True)\n",
    "    df.dropna(subset=[df_col], inplace=True)\n",
    "    \n",
    "    print \"Total number of rows after deleting NaN: {0}\".format(len(df))\n",
    "    \n",
    "def cleanText(text):\n",
    "    \"\"\"\n",
    "    removes punctuation, stopwords and returns lowercase text in a list of single words\n",
    "    source: http://francescopochetti.com/tag/sentiment-analysis/\n",
    "    \"\"\"\n",
    "    text = text.lower()    \n",
    "\n",
    "    from bs4 import BeautifulSoup\n",
    "    text = BeautifulSoup(text).get_text()\n",
    "\n",
    "    from nltk.tokenize import RegexpTokenizer\n",
    "    tokenizer = RegexpTokenizer(r'\\w+')\n",
    "    text = tokenizer.tokenize(text)\n",
    "\n",
    "    from nltk.corpus import stopwords\n",
    "    clean = [word for word in text if word not in stopwords.words('english')]\n",
    "\n",
    "    return ', '.join(clean)"
   ]
  },
  {
   "cell_type": "code",
   "execution_count": 62,
   "metadata": {
    "collapsed": false,
    "scrolled": false
   },
   "outputs": [
    {
     "name": "stdout",
     "output_type": "stream",
     "text": [
      "Total number of rows: 288501\n",
      "pandas_index        0\n",
      "post_title       2385\n",
      "num_posts           0\n",
      "views               0\n",
      "votes               0\n",
      "how_fresh           0\n",
      "download_time       0\n",
      "title               0\n",
      "post_link        2347\n",
      "freshness           0\n",
      "dtype: int64\n",
      "Total number of rows after deleting NaN: 286116\n"
     ]
    }
   ],
   "source": [
    "nonNaN_title_only(ejmr_df,'post_title')"
   ]
  },
  {
   "cell_type": "code",
   "execution_count": 63,
   "metadata": {
    "collapsed": false
   },
   "outputs": [
    {
     "name": "stderr",
     "output_type": "stream",
     "text": [
      "/Users/palermospenano/anaconda/lib/python2.7/site-packages/ipykernel/__main__.py:7: SettingWithCopyWarning: \n",
      "A value is trying to be set on a copy of a slice from a DataFrame.\n",
      "Try using .loc[row_indexer,col_indexer] = value instead\n",
      "\n",
      "See the caveats in the documentation: http://pandas.pydata.org/pandas-docs/stable/indexing.html#indexing-view-versus-copy\n"
     ]
    }
   ],
   "source": [
    "# clean text (warning: takes a while---about 5 min)\n",
    "ejmr_df['cleanTitle'] = ejmr_df['post_title'].apply(cleanText)"
   ]
  },
  {
   "cell_type": "code",
   "execution_count": 67,
   "metadata": {
    "collapsed": false
   },
   "outputs": [
    {
     "ename": "KeyError",
     "evalue": "\"['cleanTitle'] not in index\"",
     "output_type": "error",
     "traceback": [
      "\u001b[0;31m---------------------------------------------------------------------------\u001b[0m",
      "\u001b[0;31mKeyError\u001b[0m                                  Traceback (most recent call last)",
      "\u001b[0;32m<ipython-input-67-207ad28e3d8c>\u001b[0m in \u001b[0;36m<module>\u001b[0;34m()\u001b[0m\n\u001b[0;32m----> 1\u001b[0;31m \u001b[0mejmr_df\u001b[0m\u001b[0;34m[\u001b[0m\u001b[0;34m[\u001b[0m\u001b[0;34m'post_title'\u001b[0m\u001b[0;34m,\u001b[0m \u001b[0;34m'cleanTitle'\u001b[0m\u001b[0;34m]\u001b[0m\u001b[0;34m]\u001b[0m\u001b[0;34m.\u001b[0m\u001b[0mhead\u001b[0m\u001b[0;34m(\u001b[0m\u001b[0;34m)\u001b[0m\u001b[0;34m\u001b[0m\u001b[0m\n\u001b[0m",
      "\u001b[0;32m/Users/palermospenano/anaconda/lib/python2.7/site-packages/pandas/core/frame.pyc\u001b[0m in \u001b[0;36m__getitem__\u001b[0;34m(self, key)\u001b[0m\n\u001b[1;32m   1984\u001b[0m         \u001b[0;32mif\u001b[0m \u001b[0misinstance\u001b[0m\u001b[0;34m(\u001b[0m\u001b[0mkey\u001b[0m\u001b[0;34m,\u001b[0m \u001b[0;34m(\u001b[0m\u001b[0mSeries\u001b[0m\u001b[0;34m,\u001b[0m \u001b[0mnp\u001b[0m\u001b[0;34m.\u001b[0m\u001b[0mndarray\u001b[0m\u001b[0;34m,\u001b[0m \u001b[0mIndex\u001b[0m\u001b[0;34m,\u001b[0m \u001b[0mlist\u001b[0m\u001b[0;34m)\u001b[0m\u001b[0;34m)\u001b[0m\u001b[0;34m:\u001b[0m\u001b[0;34m\u001b[0m\u001b[0m\n\u001b[1;32m   1985\u001b[0m             \u001b[0;31m# either boolean or fancy integer index\u001b[0m\u001b[0;34m\u001b[0m\u001b[0;34m\u001b[0m\u001b[0m\n\u001b[0;32m-> 1986\u001b[0;31m             \u001b[0;32mreturn\u001b[0m \u001b[0mself\u001b[0m\u001b[0;34m.\u001b[0m\u001b[0m_getitem_array\u001b[0m\u001b[0;34m(\u001b[0m\u001b[0mkey\u001b[0m\u001b[0;34m)\u001b[0m\u001b[0;34m\u001b[0m\u001b[0m\n\u001b[0m\u001b[1;32m   1987\u001b[0m         \u001b[0;32melif\u001b[0m \u001b[0misinstance\u001b[0m\u001b[0;34m(\u001b[0m\u001b[0mkey\u001b[0m\u001b[0;34m,\u001b[0m \u001b[0mDataFrame\u001b[0m\u001b[0;34m)\u001b[0m\u001b[0;34m:\u001b[0m\u001b[0;34m\u001b[0m\u001b[0m\n\u001b[1;32m   1988\u001b[0m             \u001b[0;32mreturn\u001b[0m \u001b[0mself\u001b[0m\u001b[0;34m.\u001b[0m\u001b[0m_getitem_frame\u001b[0m\u001b[0;34m(\u001b[0m\u001b[0mkey\u001b[0m\u001b[0;34m)\u001b[0m\u001b[0;34m\u001b[0m\u001b[0m\n",
      "\u001b[0;32m/Users/palermospenano/anaconda/lib/python2.7/site-packages/pandas/core/frame.pyc\u001b[0m in \u001b[0;36m_getitem_array\u001b[0;34m(self, key)\u001b[0m\n\u001b[1;32m   2028\u001b[0m             \u001b[0;32mreturn\u001b[0m \u001b[0mself\u001b[0m\u001b[0;34m.\u001b[0m\u001b[0mtake\u001b[0m\u001b[0;34m(\u001b[0m\u001b[0mindexer\u001b[0m\u001b[0;34m,\u001b[0m \u001b[0maxis\u001b[0m\u001b[0;34m=\u001b[0m\u001b[0;36m0\u001b[0m\u001b[0;34m,\u001b[0m \u001b[0mconvert\u001b[0m\u001b[0;34m=\u001b[0m\u001b[0mFalse\u001b[0m\u001b[0;34m)\u001b[0m\u001b[0;34m\u001b[0m\u001b[0m\n\u001b[1;32m   2029\u001b[0m         \u001b[0;32melse\u001b[0m\u001b[0;34m:\u001b[0m\u001b[0;34m\u001b[0m\u001b[0m\n\u001b[0;32m-> 2030\u001b[0;31m             \u001b[0mindexer\u001b[0m \u001b[0;34m=\u001b[0m \u001b[0mself\u001b[0m\u001b[0;34m.\u001b[0m\u001b[0mix\u001b[0m\u001b[0;34m.\u001b[0m\u001b[0m_convert_to_indexer\u001b[0m\u001b[0;34m(\u001b[0m\u001b[0mkey\u001b[0m\u001b[0;34m,\u001b[0m \u001b[0maxis\u001b[0m\u001b[0;34m=\u001b[0m\u001b[0;36m1\u001b[0m\u001b[0;34m)\u001b[0m\u001b[0;34m\u001b[0m\u001b[0m\n\u001b[0m\u001b[1;32m   2031\u001b[0m             \u001b[0;32mreturn\u001b[0m \u001b[0mself\u001b[0m\u001b[0;34m.\u001b[0m\u001b[0mtake\u001b[0m\u001b[0;34m(\u001b[0m\u001b[0mindexer\u001b[0m\u001b[0;34m,\u001b[0m \u001b[0maxis\u001b[0m\u001b[0;34m=\u001b[0m\u001b[0;36m1\u001b[0m\u001b[0;34m,\u001b[0m \u001b[0mconvert\u001b[0m\u001b[0;34m=\u001b[0m\u001b[0mTrue\u001b[0m\u001b[0;34m)\u001b[0m\u001b[0;34m\u001b[0m\u001b[0m\n\u001b[1;32m   2032\u001b[0m \u001b[0;34m\u001b[0m\u001b[0m\n",
      "\u001b[0;32m/Users/palermospenano/anaconda/lib/python2.7/site-packages/pandas/core/indexing.pyc\u001b[0m in \u001b[0;36m_convert_to_indexer\u001b[0;34m(self, obj, axis, is_setter)\u001b[0m\n\u001b[1;32m   1208\u001b[0m                 \u001b[0mmask\u001b[0m \u001b[0;34m=\u001b[0m \u001b[0mcheck\u001b[0m \u001b[0;34m==\u001b[0m \u001b[0;34m-\u001b[0m\u001b[0;36m1\u001b[0m\u001b[0;34m\u001b[0m\u001b[0m\n\u001b[1;32m   1209\u001b[0m                 \u001b[0;32mif\u001b[0m \u001b[0mmask\u001b[0m\u001b[0;34m.\u001b[0m\u001b[0many\u001b[0m\u001b[0;34m(\u001b[0m\u001b[0;34m)\u001b[0m\u001b[0;34m:\u001b[0m\u001b[0;34m\u001b[0m\u001b[0m\n\u001b[0;32m-> 1210\u001b[0;31m                     \u001b[0;32mraise\u001b[0m \u001b[0mKeyError\u001b[0m\u001b[0;34m(\u001b[0m\u001b[0;34m'%s not in index'\u001b[0m \u001b[0;34m%\u001b[0m \u001b[0mobjarr\u001b[0m\u001b[0;34m[\u001b[0m\u001b[0mmask\u001b[0m\u001b[0;34m]\u001b[0m\u001b[0;34m)\u001b[0m\u001b[0;34m\u001b[0m\u001b[0m\n\u001b[0m\u001b[1;32m   1211\u001b[0m \u001b[0;34m\u001b[0m\u001b[0m\n\u001b[1;32m   1212\u001b[0m                 \u001b[0;32mreturn\u001b[0m \u001b[0m_values_from_object\u001b[0m\u001b[0;34m(\u001b[0m\u001b[0mindexer\u001b[0m\u001b[0;34m)\u001b[0m\u001b[0;34m\u001b[0m\u001b[0m\n",
      "\u001b[0;31mKeyError\u001b[0m: \"['cleanTitle'] not in index\""
     ]
    }
   ],
   "source": [
    "ejmr_df[['post_title', 'cleanTitle']].head()"
   ]
  },
  {
   "cell_type": "code",
   "execution_count": 11,
   "metadata": {
    "collapsed": true
   },
   "outputs": [],
   "source": [
    "# save cleaned data to csv\n",
    "ejmr_df.to_csv('ejmr_data_cleand.csv', index=True, index_label='pandas_index')"
   ]
  }
 ],
 "metadata": {
  "kernelspec": {
   "display_name": "Python 2",
   "language": "python",
   "name": "python2"
  },
  "language_info": {
   "codemirror_mode": {
    "name": "ipython",
    "version": 2
   },
   "file_extension": ".py",
   "mimetype": "text/x-python",
   "name": "python",
   "nbconvert_exporter": "python",
   "pygments_lexer": "ipython2",
   "version": "2.7.12"
  }
 },
 "nbformat": 4,
 "nbformat_minor": 0
}
