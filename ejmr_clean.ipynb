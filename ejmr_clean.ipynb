{
 "cells": [
  {
   "cell_type": "code",
   "execution_count": 79,
   "metadata": {
    "collapsed": false
   },
   "outputs": [],
   "source": [
    "import glob\n",
    "import os\n",
    "import re\n",
    "import pandas as pd"
   ]
  },
  {
   "cell_type": "code",
   "execution_count": 80,
   "metadata": {
    "collapsed": true
   },
   "outputs": [],
   "source": [
    "# helps sort file by number at the end of each filename (10 correctly placed after 9 in filename)\n",
    "numbers = re.compile(r'(\\d+)')\n",
    "def numericalSort(value):\n",
    "    parts = numbers.split(value)\n",
    "    parts[1::2] = map(int, parts[1::2])\n",
    "    return parts"
   ]
  },
  {
   "cell_type": "code",
   "execution_count": 81,
   "metadata": {
    "collapsed": false
   },
   "outputs": [],
   "source": [
    "# concatenate all csv files\n",
    "ejmr_data = sorted(glob.glob('ejmr_pg*.csv'), key=numericalSort)\n",
    "\n",
    "df_list = []\n",
    "for filename in sorted(ejmr_data):\n",
    "    df_list.append(pd.read_csv(filename))\n",
    "full_df = pd.concat(df_list)"
   ]
  },
  {
   "cell_type": "code",
   "execution_count": 100,
   "metadata": {
    "collapsed": false
   },
   "outputs": [
    {
     "data": {
      "text/html": [
       "<div>\n",
       "<table border=\"1\" class=\"dataframe\">\n",
       "  <thead>\n",
       "    <tr style=\"text-align: right;\">\n",
       "      <th></th>\n",
       "      <th>post_title</th>\n",
       "      <th>num_posts</th>\n",
       "      <th>views</th>\n",
       "      <th>votes</th>\n",
       "      <th>how_fresh</th>\n",
       "      <th>download_time</th>\n",
       "      <th>title</th>\n",
       "      <th>post_link</th>\n",
       "      <th>freshness</th>\n",
       "    </tr>\n",
       "  </thead>\n",
       "  <tbody>\n",
       "    <tr>\n",
       "      <th>0</th>\n",
       "      <td>Pls explain me how machines can learn?</td>\n",
       "      <td>5</td>\n",
       "      <td>95</td>\n",
       "      <td>0-0</td>\n",
       "      <td>1 day</td>\n",
       "      <td>2017-06-11 03:37:22.777761</td>\n",
       "      <td>&lt;a href=\"https://www.econjobrumors.com/topic/p...</td>\n",
       "      <td>https://www.econjobrumors.com/topic/pls-explai...</td>\n",
       "      <td>&lt;a href=\"https://www.econjobrumors.com/topic/p...</td>\n",
       "    </tr>\n",
       "    <tr>\n",
       "      <th>1</th>\n",
       "      <td>Machine learning is Satan worshipping in disguise</td>\n",
       "      <td>17</td>\n",
       "      <td>337</td>\n",
       "      <td>6-0</td>\n",
       "      <td>1 day</td>\n",
       "      <td>2017-06-11 03:37:22.777852</td>\n",
       "      <td>&lt;a href=\"https://www.econjobrumors.com/topic/m...</td>\n",
       "      <td>https://www.econjobrumors.com/topic/machine-le...</td>\n",
       "      <td>&lt;a href=\"https://www.econjobrumors.com/topic/m...</td>\n",
       "    </tr>\n",
       "    <tr>\n",
       "      <th>2</th>\n",
       "      <td>Should I buy a BMW</td>\n",
       "      <td>29</td>\n",
       "      <td>960</td>\n",
       "      <td>0-0</td>\n",
       "      <td>1 day</td>\n",
       "      <td>2017-06-11 03:37:22.777956</td>\n",
       "      <td>&lt;a href=\"https://www.econjobrumors.com/topic/s...</td>\n",
       "      <td>https://www.econjobrumors.com/topic/should-i-b...</td>\n",
       "      <td>&lt;a href=\"https://www.econjobrumors.com/topic/s...</td>\n",
       "    </tr>\n",
       "    <tr>\n",
       "      <th>3</th>\n",
       "      <td>A proposal on how to replace student evaluations</td>\n",
       "      <td>22</td>\n",
       "      <td>561</td>\n",
       "      <td>4-3</td>\n",
       "      <td>1 day</td>\n",
       "      <td>2017-06-11 03:37:22.778058</td>\n",
       "      <td>&lt;a href=\"https://www.econjobrumors.com/topic/a...</td>\n",
       "      <td>https://www.econjobrumors.com/topic/a-proposal...</td>\n",
       "      <td>&lt;a href=\"https://www.econjobrumors.com/topic/a...</td>\n",
       "    </tr>\n",
       "    <tr>\n",
       "      <th>4</th>\n",
       "      <td>Roman Catholics, put down your rosaries and ex...</td>\n",
       "      <td>1</td>\n",
       "      <td>69</td>\n",
       "      <td>1-0</td>\n",
       "      <td>1 day</td>\n",
       "      <td>2017-06-11 03:37:22.778133</td>\n",
       "      <td>&lt;a href=\"https://www.econjobrumors.com/topic/r...</td>\n",
       "      <td>https://www.econjobrumors.com/topic/roman-cath...</td>\n",
       "      <td>&lt;a href=\"https://www.econjobrumors.com/topic/r...</td>\n",
       "    </tr>\n",
       "  </tbody>\n",
       "</table>\n",
       "</div>"
      ],
      "text/plain": [
       "                                          post_title  num_posts  views votes  \\\n",
       "0             Pls explain me how machines can learn?          5     95   0-0   \n",
       "1  Machine learning is Satan worshipping in disguise         17    337   6-0   \n",
       "2                                 Should I buy a BMW         29    960   0-0   \n",
       "3   A proposal on how to replace student evaluations         22    561   4-3   \n",
       "4  Roman Catholics, put down your rosaries and ex...          1     69   1-0   \n",
       "\n",
       "  how_fresh               download_time  \\\n",
       "0     1 day  2017-06-11 03:37:22.777761   \n",
       "1     1 day  2017-06-11 03:37:22.777852   \n",
       "2     1 day  2017-06-11 03:37:22.777956   \n",
       "3     1 day  2017-06-11 03:37:22.778058   \n",
       "4     1 day  2017-06-11 03:37:22.778133   \n",
       "\n",
       "                                               title  \\\n",
       "0  <a href=\"https://www.econjobrumors.com/topic/p...   \n",
       "1  <a href=\"https://www.econjobrumors.com/topic/m...   \n",
       "2  <a href=\"https://www.econjobrumors.com/topic/s...   \n",
       "3  <a href=\"https://www.econjobrumors.com/topic/a...   \n",
       "4  <a href=\"https://www.econjobrumors.com/topic/r...   \n",
       "\n",
       "                                           post_link  \\\n",
       "0  https://www.econjobrumors.com/topic/pls-explai...   \n",
       "1  https://www.econjobrumors.com/topic/machine-le...   \n",
       "2  https://www.econjobrumors.com/topic/should-i-b...   \n",
       "3  https://www.econjobrumors.com/topic/a-proposal...   \n",
       "4  https://www.econjobrumors.com/topic/roman-cath...   \n",
       "\n",
       "                                           freshness  \n",
       "0  <a href=\"https://www.econjobrumors.com/topic/p...  \n",
       "1  <a href=\"https://www.econjobrumors.com/topic/m...  \n",
       "2  <a href=\"https://www.econjobrumors.com/topic/s...  \n",
       "3  <a href=\"https://www.econjobrumors.com/topic/a...  \n",
       "4  <a href=\"https://www.econjobrumors.com/topic/r...  "
      ]
     },
     "execution_count": 100,
     "metadata": {},
     "output_type": "execute_result"
    }
   ],
   "source": [
    "# split title into orig. link and post title, get freshness values\n",
    "full_df['post_link'] = full_df['title'].str.extract(r'<a href=\"(.*?)\">',expand=True)\n",
    "full_df['post_title'] = full_df['title'].str.extract(r'\">(.*?)</a>',expand=True)\n",
    "full_df['how_fresh'] = full_df['freshness'].str.extract(r'\">(.*?)</a>',expand=True)\n",
    "\n",
    "list(full_df.columns)\n",
    "\n",
    "# reorder columns\n",
    "full_df = full_df[['post_title',\n",
    "                   'num_posts',\n",
    "                   'views',\n",
    "                   'votes',\n",
    "                   'how_fresh',\n",
    "                   'download_time',\n",
    "                   'title',\n",
    "                   'post_link',\n",
    "                   'freshness'\n",
    "                  ]]\n",
    "\n",
    "full_df.head()\n",
    "\n",
    "# export full data to csv\n",
    "# full_df.to_csv('ejmr_data.csv', index=True, index_label='pandas_index')"
   ]
  },
  {
   "cell_type": "code",
   "execution_count": null,
   "metadata": {
    "collapsed": true
   },
   "outputs": [],
   "source": [
    "# NEXT?"
   ]
  }
 ],
 "metadata": {
  "kernelspec": {
   "display_name": "Python 2",
   "language": "python",
   "name": "python2"
  },
  "language_info": {
   "codemirror_mode": {
    "name": "ipython",
    "version": 2
   },
   "file_extension": ".py",
   "mimetype": "text/x-python",
   "name": "python",
   "nbconvert_exporter": "python",
   "pygments_lexer": "ipython2",
   "version": "2.7.12"
  }
 },
 "nbformat": 4,
 "nbformat_minor": 0
}
