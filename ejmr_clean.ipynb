{
 "cells": [
  {
   "cell_type": "code",
   "execution_count": 68,
   "metadata": {
    "collapsed": false
   },
   "outputs": [],
   "source": [
    "import glob\n",
    "import os\n",
    "import re\n",
    "import pandas as pd\n",
    "import numpy as np\n",
    "from ast import literal_eval"
   ]
  },
  {
   "cell_type": "code",
   "execution_count": 69,
   "metadata": {
    "collapsed": false
   },
   "outputs": [
    {
     "name": "stdout",
     "output_type": "stream",
     "text": [
      "/Users/palermospenano/Desktop/github_proj/ejmr_analysis/ejmr_data\n"
     ]
    }
   ],
   "source": [
    "print os.getcwd()\n",
    "os.chdir(\"/Users/palermospenano/Desktop/github_proj/ejmr_analysis/ejmr_data\")"
   ]
  },
  {
   "cell_type": "code",
   "execution_count": 70,
   "metadata": {
    "collapsed": true
   },
   "outputs": [],
   "source": [
    "# helps sort file by number at the end of each filename (10 correctly placed after 9 in filename)\n",
    "numbers = re.compile(r'(\\d+)')\n",
    "def numericalSort(value):\n",
    "    parts = numbers.split(value)\n",
    "    parts[1::2] = map(int, parts[1::2])\n",
    "    return parts"
   ]
  },
  {
   "cell_type": "code",
   "execution_count": 71,
   "metadata": {
    "collapsed": false
   },
   "outputs": [],
   "source": [
    "# concatenate all csv files\n",
    "ejmr_data = sorted(glob.glob('ejmr_pg*.csv'), key=numericalSort)\n",
    "\n",
    "df_list = []\n",
    "for filename in sorted(ejmr_data):\n",
    "    df_list.append(pd.read_csv(filename))\n",
    "full_df = pd.concat(df_list)"
   ]
  },
  {
   "cell_type": "code",
   "execution_count": 72,
   "metadata": {
    "collapsed": false
   },
   "outputs": [],
   "source": [
    "# split title into orig. link and post title, and get freshness values\n",
    "full_df['post_link'] = full_df['title'].str.extract(r'<a href=\"(.*?)\">',expand=True)\n",
    "full_df['post_title'] = full_df['title'].str.extract(r'\">(.*?)</a>',expand=True)\n",
    "full_df['how_fresh'] = full_df['freshness'].str.extract(r'\">(.*?)</a>',expand=True)\n",
    "\n",
    "list(full_df.columns)\n",
    "\n",
    "# reorder columns\n",
    "full_df = full_df[['post_title',\n",
    "                   'num_posts',\n",
    "                   'views',\n",
    "                   'votes',\n",
    "                   'how_fresh',\n",
    "                   'download_time',\n",
    "                   'title',\n",
    "                   'post_link',\n",
    "                   'freshness'\n",
    "                  ]]\n",
    "\n",
    "# export full data to csv\n",
    "full_df.to_csv('ejmr_data.csv', index=True, index_label='pandas_index')"
   ]
  },
  {
   "cell_type": "code",
   "execution_count": 73,
   "metadata": {
    "collapsed": false
   },
   "outputs": [
    {
     "data": {
      "text/html": [
       "<div>\n",
       "<table border=\"1\" class=\"dataframe\">\n",
       "  <thead>\n",
       "    <tr style=\"text-align: right;\">\n",
       "      <th></th>\n",
       "      <th>post_title</th>\n",
       "      <th>num_posts</th>\n",
       "      <th>views</th>\n",
       "      <th>votes</th>\n",
       "      <th>how_fresh</th>\n",
       "      <th>download_time</th>\n",
       "      <th>title</th>\n",
       "      <th>post_link</th>\n",
       "      <th>freshness</th>\n",
       "    </tr>\n",
       "  </thead>\n",
       "  <tbody>\n",
       "    <tr>\n",
       "      <th>0</th>\n",
       "      <td>Pls explain me how machines can learn?</td>\n",
       "      <td>5</td>\n",
       "      <td>95</td>\n",
       "      <td>0-0</td>\n",
       "      <td>1 day</td>\n",
       "      <td>2017-06-11 03:37:22.777761</td>\n",
       "      <td>&lt;a href=\"https://www.econjobrumors.com/topic/p...</td>\n",
       "      <td>https://www.econjobrumors.com/topic/pls-explai...</td>\n",
       "      <td>&lt;a href=\"https://www.econjobrumors.com/topic/p...</td>\n",
       "    </tr>\n",
       "    <tr>\n",
       "      <th>1</th>\n",
       "      <td>Machine learning is Satan worshipping in disguise</td>\n",
       "      <td>17</td>\n",
       "      <td>337</td>\n",
       "      <td>6-0</td>\n",
       "      <td>1 day</td>\n",
       "      <td>2017-06-11 03:37:22.777852</td>\n",
       "      <td>&lt;a href=\"https://www.econjobrumors.com/topic/m...</td>\n",
       "      <td>https://www.econjobrumors.com/topic/machine-le...</td>\n",
       "      <td>&lt;a href=\"https://www.econjobrumors.com/topic/m...</td>\n",
       "    </tr>\n",
       "    <tr>\n",
       "      <th>2</th>\n",
       "      <td>Should I buy a BMW</td>\n",
       "      <td>29</td>\n",
       "      <td>960</td>\n",
       "      <td>0-0</td>\n",
       "      <td>1 day</td>\n",
       "      <td>2017-06-11 03:37:22.777956</td>\n",
       "      <td>&lt;a href=\"https://www.econjobrumors.com/topic/s...</td>\n",
       "      <td>https://www.econjobrumors.com/topic/should-i-b...</td>\n",
       "      <td>&lt;a href=\"https://www.econjobrumors.com/topic/s...</td>\n",
       "    </tr>\n",
       "    <tr>\n",
       "      <th>3</th>\n",
       "      <td>A proposal on how to replace student evaluations</td>\n",
       "      <td>22</td>\n",
       "      <td>561</td>\n",
       "      <td>4-3</td>\n",
       "      <td>1 day</td>\n",
       "      <td>2017-06-11 03:37:22.778058</td>\n",
       "      <td>&lt;a href=\"https://www.econjobrumors.com/topic/a...</td>\n",
       "      <td>https://www.econjobrumors.com/topic/a-proposal...</td>\n",
       "      <td>&lt;a href=\"https://www.econjobrumors.com/topic/a...</td>\n",
       "    </tr>\n",
       "    <tr>\n",
       "      <th>4</th>\n",
       "      <td>Roman Catholics, put down your rosaries and ex...</td>\n",
       "      <td>1</td>\n",
       "      <td>69</td>\n",
       "      <td>1-0</td>\n",
       "      <td>1 day</td>\n",
       "      <td>2017-06-11 03:37:22.778133</td>\n",
       "      <td>&lt;a href=\"https://www.econjobrumors.com/topic/r...</td>\n",
       "      <td>https://www.econjobrumors.com/topic/roman-cath...</td>\n",
       "      <td>&lt;a href=\"https://www.econjobrumors.com/topic/r...</td>\n",
       "    </tr>\n",
       "  </tbody>\n",
       "</table>\n",
       "</div>"
      ],
      "text/plain": [
       "                                          post_title  num_posts  views votes  \\\n",
       "0             Pls explain me how machines can learn?          5     95   0-0   \n",
       "1  Machine learning is Satan worshipping in disguise         17    337   6-0   \n",
       "2                                 Should I buy a BMW         29    960   0-0   \n",
       "3   A proposal on how to replace student evaluations         22    561   4-3   \n",
       "4  Roman Catholics, put down your rosaries and ex...          1     69   1-0   \n",
       "\n",
       "  how_fresh               download_time  \\\n",
       "0     1 day  2017-06-11 03:37:22.777761   \n",
       "1     1 day  2017-06-11 03:37:22.777852   \n",
       "2     1 day  2017-06-11 03:37:22.777956   \n",
       "3     1 day  2017-06-11 03:37:22.778058   \n",
       "4     1 day  2017-06-11 03:37:22.778133   \n",
       "\n",
       "                                               title  \\\n",
       "0  <a href=\"https://www.econjobrumors.com/topic/p...   \n",
       "1  <a href=\"https://www.econjobrumors.com/topic/m...   \n",
       "2  <a href=\"https://www.econjobrumors.com/topic/s...   \n",
       "3  <a href=\"https://www.econjobrumors.com/topic/a...   \n",
       "4  <a href=\"https://www.econjobrumors.com/topic/r...   \n",
       "\n",
       "                                           post_link  \\\n",
       "0  https://www.econjobrumors.com/topic/pls-explai...   \n",
       "1  https://www.econjobrumors.com/topic/machine-le...   \n",
       "2  https://www.econjobrumors.com/topic/should-i-b...   \n",
       "3  https://www.econjobrumors.com/topic/a-proposal...   \n",
       "4  https://www.econjobrumors.com/topic/roman-cath...   \n",
       "\n",
       "                                           freshness  \n",
       "0  <a href=\"https://www.econjobrumors.com/topic/p...  \n",
       "1  <a href=\"https://www.econjobrumors.com/topic/m...  \n",
       "2  <a href=\"https://www.econjobrumors.com/topic/s...  \n",
       "3  <a href=\"https://www.econjobrumors.com/topic/a...  \n",
       "4  <a href=\"https://www.econjobrumors.com/topic/r...  "
      ]
     },
     "execution_count": 73,
     "metadata": {},
     "output_type": "execute_result"
    }
   ],
   "source": [
    "full_df.head()"
   ]
  },
  {
   "cell_type": "code",
   "execution_count": 74,
   "metadata": {
    "collapsed": false
   },
   "outputs": [],
   "source": [
    "ejmr_df = pd.read_csv('ejmr_data.csv')"
   ]
  },
  {
   "cell_type": "code",
   "execution_count": 75,
   "metadata": {
    "collapsed": false
   },
   "outputs": [],
   "source": [
    "def nonNaN_title_only(df, df_col):\n",
    "    \"\"\"\n",
    "    replaces empty strings with NaN and subsequently removes removes them. Function makes changes in place.\n",
    "    \"\"\"\n",
    "    print \"Total number of rows: {0}\".format(len(df))\n",
    "    print len(df) - df.count()  # number of NaN rows for each column\n",
    "    \n",
    "    df[df_col].replace('', np.nan, inplace=True)\n",
    "    df.dropna(subset=[df_col], inplace=True)\n",
    "    \n",
    "    print \"Total number of rows after deleting NaN: {0}\".format(len(df))\n",
    "    \n",
    "def cleanText(text):\n",
    "    \"\"\"\n",
    "    removes punctuation, stopwords and returns lowercase text in a list of single words\n",
    "    source: http://francescopochetti.com/tag/sentiment-analysis/\n",
    "    \"\"\"\n",
    "    text = text.lower()    \n",
    "\n",
    "    from bs4 import BeautifulSoup\n",
    "    text = BeautifulSoup(text).get_text()\n",
    "\n",
    "    from nltk.tokenize import RegexpTokenizer\n",
    "    tokenizer = RegexpTokenizer(r'\\w+')\n",
    "    text = tokenizer.tokenize(text)\n",
    "\n",
    "    from nltk.corpus import stopwords\n",
    "    clean = [word for word in text if word not in stopwords.words('english')]\n",
    "\n",
    "    return ', '.join(clean)"
   ]
  },
  {
   "cell_type": "code",
   "execution_count": 76,
   "metadata": {
    "collapsed": false,
    "scrolled": false
   },
   "outputs": [
    {
     "name": "stdout",
     "output_type": "stream",
     "text": [
      "Total number of rows: 288501\n",
      "pandas_index        0\n",
      "post_title       2385\n",
      "num_posts           0\n",
      "views               0\n",
      "votes               0\n",
      "how_fresh           0\n",
      "download_time       0\n",
      "title               0\n",
      "post_link        2347\n",
      "freshness           0\n",
      "dtype: int64\n",
      "Total number of rows after deleting NaN: 286116\n"
     ]
    }
   ],
   "source": [
    "nonNaN_title_only(ejmr_df,'post_title')"
   ]
  },
  {
   "cell_type": "code",
   "execution_count": 77,
   "metadata": {
    "collapsed": false
   },
   "outputs": [],
   "source": [
    "# clean text (warning: takes a while---about 5 min)\n",
    "ejmr_df['cleanTitle'] = ejmr_df['post_title'].apply(cleanText)"
   ]
  },
  {
   "cell_type": "code",
   "execution_count": 78,
   "metadata": {
    "collapsed": false
   },
   "outputs": [
    {
     "data": {
      "text/html": [
       "<div>\n",
       "<table border=\"1\" class=\"dataframe\">\n",
       "  <thead>\n",
       "    <tr style=\"text-align: right;\">\n",
       "      <th></th>\n",
       "      <th>post_title</th>\n",
       "      <th>cleanTitle</th>\n",
       "    </tr>\n",
       "  </thead>\n",
       "  <tbody>\n",
       "    <tr>\n",
       "      <th>0</th>\n",
       "      <td>Pls explain me how machines can learn?</td>\n",
       "      <td>pls, explain, machines, learn</td>\n",
       "    </tr>\n",
       "    <tr>\n",
       "      <th>1</th>\n",
       "      <td>Machine learning is Satan worshipping in disguise</td>\n",
       "      <td>machine, learning, satan, worshipping, disguise</td>\n",
       "    </tr>\n",
       "    <tr>\n",
       "      <th>2</th>\n",
       "      <td>Should I buy a BMW</td>\n",
       "      <td>buy, bmw</td>\n",
       "    </tr>\n",
       "    <tr>\n",
       "      <th>3</th>\n",
       "      <td>A proposal on how to replace student evaluations</td>\n",
       "      <td>proposal, replace, student, evaluations</td>\n",
       "    </tr>\n",
       "    <tr>\n",
       "      <th>4</th>\n",
       "      <td>Roman Catholics, put down your rosaries and ex...</td>\n",
       "      <td>roman, catholics, put, rosaries, explain</td>\n",
       "    </tr>\n",
       "  </tbody>\n",
       "</table>\n",
       "</div>"
      ],
      "text/plain": [
       "                                          post_title  \\\n",
       "0             Pls explain me how machines can learn?   \n",
       "1  Machine learning is Satan worshipping in disguise   \n",
       "2                                 Should I buy a BMW   \n",
       "3   A proposal on how to replace student evaluations   \n",
       "4  Roman Catholics, put down your rosaries and ex...   \n",
       "\n",
       "                                        cleanTitle  \n",
       "0                    pls, explain, machines, learn  \n",
       "1  machine, learning, satan, worshipping, disguise  \n",
       "2                                         buy, bmw  \n",
       "3          proposal, replace, student, evaluations  \n",
       "4         roman, catholics, put, rosaries, explain  "
      ]
     },
     "execution_count": 78,
     "metadata": {},
     "output_type": "execute_result"
    }
   ],
   "source": [
    "ejmr_df[['post_title', 'cleanTitle']].head()"
   ]
  },
  {
   "cell_type": "code",
   "execution_count": 79,
   "metadata": {
    "collapsed": true
   },
   "outputs": [],
   "source": [
    "# save cleaned data to csv\n",
    "ejmr_df.to_csv('ejmr_data_cleand.csv', index=True, index_label='pandas_index')"
   ]
  }
 ],
 "metadata": {
  "kernelspec": {
   "display_name": "Python 2",
   "language": "python",
   "name": "python2"
  },
  "language_info": {
   "codemirror_mode": {
    "name": "ipython",
    "version": 2
   },
   "file_extension": ".py",
   "mimetype": "text/x-python",
   "name": "python",
   "nbconvert_exporter": "python",
   "pygments_lexer": "ipython2",
   "version": "2.7.12"
  }
 },
 "nbformat": 4,
 "nbformat_minor": 0
}
